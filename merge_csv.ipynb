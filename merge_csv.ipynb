{
 "cells": [
  {
   "cell_type": "code",
   "execution_count": 4,
   "id": "6f3e79aa",
   "metadata": {},
   "outputs": [],
   "source": [
    "import pandas as pd\n",
    "\n",
    "# Read the CSV files\n",
    "df1 = pd.read_csv(\"TATA.csv\")\n",
    "df2 = pd.read_csv(\"TATA_L.csv\")\n",
    "\n",
    "#setting columns\n",
    "new_column_names = [\"DATE\",\"SERIES\",\"OPEN\", \"HIGH\", \"LOW\", \"PREV CLOSE\",\"LTP\",\"CLOSE\",\"VWAP\",\"52W H\",\"52W L\",\"VALUE\",\"VOLUME\", \"NO OF TRADES\"]\n",
    "df1.columns = new_column_names\n",
    "df2.columns = new_column_names\n",
    "\n",
    "# Perform the join or merge operation\n",
    "merged_df = pd.merge(df1, df2)  # Replace \"common_column\" with the column name common to both datasets\n",
    "# Merge the data from the two DataFrames\n",
    "merged_df = pd.concat([df2, df1], ignore_index=True)\n",
    "# Save the merged DataFrame to a new CSV file\n",
    "merged_df.to_csv(\"merged_data.csv\", index=False)\n"
   ]
  },
  {
   "cell_type": "code",
   "execution_count": null,
   "id": "feb9cd97",
   "metadata": {},
   "outputs": [],
   "source": []
  }
 ],
 "metadata": {
  "kernelspec": {
   "display_name": "Python 3 (ipykernel)",
   "language": "python",
   "name": "python3"
  },
  "language_info": {
   "codemirror_mode": {
    "name": "ipython",
    "version": 3
   },
   "file_extension": ".py",
   "mimetype": "text/x-python",
   "name": "python",
   "nbconvert_exporter": "python",
   "pygments_lexer": "ipython3",
   "version": "3.8.10"
  }
 },
 "nbformat": 4,
 "nbformat_minor": 5
}
